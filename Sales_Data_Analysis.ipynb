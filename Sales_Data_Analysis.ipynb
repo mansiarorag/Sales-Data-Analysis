{
  "nbformat": 4,
  "nbformat_minor": 0,
  "metadata": {
    "colab": {
      "provenance": [],
      "authorship_tag": "ABX9TyOCDx4aGnwy7oGO9AnxuN1W",
      "include_colab_link": true
    },
    "kernelspec": {
      "name": "python3",
      "display_name": "Python 3"
    },
    "language_info": {
      "name": "python"
    }
  },
  "cells": [
    {
      "cell_type": "markdown",
      "metadata": {
        "id": "view-in-github",
        "colab_type": "text"
      },
      "source": [
        "<a href=\"https://colab.research.google.com/github/mansiarorag/Sales-Data-Analysis/blob/main/Sales_Data_Analysis.ipynb\" target=\"_parent\"><img src=\"https://colab.research.google.com/assets/colab-badge.svg\" alt=\"Open In Colab\"/></a>"
      ]
    },
    {
      "cell_type": "code",
      "execution_count": 4,
      "metadata": {
        "colab": {
          "base_uri": "https://localhost:8080/",
          "height": 74
        },
        "id": "74B30OI6ncq_",
        "outputId": "daea55e2-c7ae-4089-a0dd-f5d6e24b743e"
      },
      "outputs": [
        {
          "output_type": "display_data",
          "data": {
            "text/plain": [
              "<IPython.core.display.HTML object>"
            ],
            "text/html": [
              "\n",
              "     <input type=\"file\" id=\"files-f370fb08-d6e3-4c5c-b97e-70d63e2e9e55\" name=\"files[]\" multiple disabled\n",
              "        style=\"border:none\" />\n",
              "     <output id=\"result-f370fb08-d6e3-4c5c-b97e-70d63e2e9e55\">\n",
              "      Upload widget is only available when the cell has been executed in the\n",
              "      current browser session. Please rerun this cell to enable.\n",
              "      </output>\n",
              "      <script>// Copyright 2017 Google LLC\n",
              "//\n",
              "// Licensed under the Apache License, Version 2.0 (the \"License\");\n",
              "// you may not use this file except in compliance with the License.\n",
              "// You may obtain a copy of the License at\n",
              "//\n",
              "//      http://www.apache.org/licenses/LICENSE-2.0\n",
              "//\n",
              "// Unless required by applicable law or agreed to in writing, software\n",
              "// distributed under the License is distributed on an \"AS IS\" BASIS,\n",
              "// WITHOUT WARRANTIES OR CONDITIONS OF ANY KIND, either express or implied.\n",
              "// See the License for the specific language governing permissions and\n",
              "// limitations under the License.\n",
              "\n",
              "/**\n",
              " * @fileoverview Helpers for google.colab Python module.\n",
              " */\n",
              "(function(scope) {\n",
              "function span(text, styleAttributes = {}) {\n",
              "  const element = document.createElement('span');\n",
              "  element.textContent = text;\n",
              "  for (const key of Object.keys(styleAttributes)) {\n",
              "    element.style[key] = styleAttributes[key];\n",
              "  }\n",
              "  return element;\n",
              "}\n",
              "\n",
              "// Max number of bytes which will be uploaded at a time.\n",
              "const MAX_PAYLOAD_SIZE = 100 * 1024;\n",
              "\n",
              "function _uploadFiles(inputId, outputId) {\n",
              "  const steps = uploadFilesStep(inputId, outputId);\n",
              "  const outputElement = document.getElementById(outputId);\n",
              "  // Cache steps on the outputElement to make it available for the next call\n",
              "  // to uploadFilesContinue from Python.\n",
              "  outputElement.steps = steps;\n",
              "\n",
              "  return _uploadFilesContinue(outputId);\n",
              "}\n",
              "\n",
              "// This is roughly an async generator (not supported in the browser yet),\n",
              "// where there are multiple asynchronous steps and the Python side is going\n",
              "// to poll for completion of each step.\n",
              "// This uses a Promise to block the python side on completion of each step,\n",
              "// then passes the result of the previous step as the input to the next step.\n",
              "function _uploadFilesContinue(outputId) {\n",
              "  const outputElement = document.getElementById(outputId);\n",
              "  const steps = outputElement.steps;\n",
              "\n",
              "  const next = steps.next(outputElement.lastPromiseValue);\n",
              "  return Promise.resolve(next.value.promise).then((value) => {\n",
              "    // Cache the last promise value to make it available to the next\n",
              "    // step of the generator.\n",
              "    outputElement.lastPromiseValue = value;\n",
              "    return next.value.response;\n",
              "  });\n",
              "}\n",
              "\n",
              "/**\n",
              " * Generator function which is called between each async step of the upload\n",
              " * process.\n",
              " * @param {string} inputId Element ID of the input file picker element.\n",
              " * @param {string} outputId Element ID of the output display.\n",
              " * @return {!Iterable<!Object>} Iterable of next steps.\n",
              " */\n",
              "function* uploadFilesStep(inputId, outputId) {\n",
              "  const inputElement = document.getElementById(inputId);\n",
              "  inputElement.disabled = false;\n",
              "\n",
              "  const outputElement = document.getElementById(outputId);\n",
              "  outputElement.innerHTML = '';\n",
              "\n",
              "  const pickedPromise = new Promise((resolve) => {\n",
              "    inputElement.addEventListener('change', (e) => {\n",
              "      resolve(e.target.files);\n",
              "    });\n",
              "  });\n",
              "\n",
              "  const cancel = document.createElement('button');\n",
              "  inputElement.parentElement.appendChild(cancel);\n",
              "  cancel.textContent = 'Cancel upload';\n",
              "  const cancelPromise = new Promise((resolve) => {\n",
              "    cancel.onclick = () => {\n",
              "      resolve(null);\n",
              "    };\n",
              "  });\n",
              "\n",
              "  // Wait for the user to pick the files.\n",
              "  const files = yield {\n",
              "    promise: Promise.race([pickedPromise, cancelPromise]),\n",
              "    response: {\n",
              "      action: 'starting',\n",
              "    }\n",
              "  };\n",
              "\n",
              "  cancel.remove();\n",
              "\n",
              "  // Disable the input element since further picks are not allowed.\n",
              "  inputElement.disabled = true;\n",
              "\n",
              "  if (!files) {\n",
              "    return {\n",
              "      response: {\n",
              "        action: 'complete',\n",
              "      }\n",
              "    };\n",
              "  }\n",
              "\n",
              "  for (const file of files) {\n",
              "    const li = document.createElement('li');\n",
              "    li.append(span(file.name, {fontWeight: 'bold'}));\n",
              "    li.append(span(\n",
              "        `(${file.type || 'n/a'}) - ${file.size} bytes, ` +\n",
              "        `last modified: ${\n",
              "            file.lastModifiedDate ? file.lastModifiedDate.toLocaleDateString() :\n",
              "                                    'n/a'} - `));\n",
              "    const percent = span('0% done');\n",
              "    li.appendChild(percent);\n",
              "\n",
              "    outputElement.appendChild(li);\n",
              "\n",
              "    const fileDataPromise = new Promise((resolve) => {\n",
              "      const reader = new FileReader();\n",
              "      reader.onload = (e) => {\n",
              "        resolve(e.target.result);\n",
              "      };\n",
              "      reader.readAsArrayBuffer(file);\n",
              "    });\n",
              "    // Wait for the data to be ready.\n",
              "    let fileData = yield {\n",
              "      promise: fileDataPromise,\n",
              "      response: {\n",
              "        action: 'continue',\n",
              "      }\n",
              "    };\n",
              "\n",
              "    // Use a chunked sending to avoid message size limits. See b/62115660.\n",
              "    let position = 0;\n",
              "    do {\n",
              "      const length = Math.min(fileData.byteLength - position, MAX_PAYLOAD_SIZE);\n",
              "      const chunk = new Uint8Array(fileData, position, length);\n",
              "      position += length;\n",
              "\n",
              "      const base64 = btoa(String.fromCharCode.apply(null, chunk));\n",
              "      yield {\n",
              "        response: {\n",
              "          action: 'append',\n",
              "          file: file.name,\n",
              "          data: base64,\n",
              "        },\n",
              "      };\n",
              "\n",
              "      let percentDone = fileData.byteLength === 0 ?\n",
              "          100 :\n",
              "          Math.round((position / fileData.byteLength) * 100);\n",
              "      percent.textContent = `${percentDone}% done`;\n",
              "\n",
              "    } while (position < fileData.byteLength);\n",
              "  }\n",
              "\n",
              "  // All done.\n",
              "  yield {\n",
              "    response: {\n",
              "      action: 'complete',\n",
              "    }\n",
              "  };\n",
              "}\n",
              "\n",
              "scope.google = scope.google || {};\n",
              "scope.google.colab = scope.google.colab || {};\n",
              "scope.google.colab._files = {\n",
              "  _uploadFiles,\n",
              "  _uploadFilesContinue,\n",
              "};\n",
              "})(self);\n",
              "</script> "
            ]
          },
          "metadata": {}
        },
        {
          "output_type": "stream",
          "name": "stdout",
          "text": [
            "Saving assessment_dataset.xlsx to assessment_dataset.xlsx\n"
          ]
        }
      ],
      "source": [
        "from google.colab import files\n",
        "uploaded = files.upload()\n",
        "\n"
      ]
    },
    {
      "cell_type": "markdown",
      "source": [
        "Load Data into SQLite"
      ],
      "metadata": {
        "id": "6ILPxNkFqKt2"
      }
    },
    {
      "cell_type": "code",
      "source": [
        "import sqlite3\n",
        "import pandas as pd\n",
        "\n",
        "# Load dataset\n",
        "file_path = \"assessment_dataset.xlsx\"\n",
        "df = pd.read_excel(file_path)\n",
        "\n",
        "# Connect to SQLite (in-memory)\n",
        "conn = sqlite3.connect(\":memory:\")\n",
        "df.to_sql(\"sales_data\", conn, index=False, if_exists=\"replace\")\n"
      ],
      "metadata": {
        "colab": {
          "base_uri": "https://localhost:8080/"
        },
        "id": "Aw73jrLlnrbH",
        "outputId": "00833096-9e9f-41a8-9368-128b1ff5f96e"
      },
      "execution_count": 5,
      "outputs": [
        {
          "output_type": "execute_result",
          "data": {
            "text/plain": [
              "500000"
            ]
          },
          "metadata": {},
          "execution_count": 5
        }
      ]
    },
    {
      "cell_type": "markdown",
      "source": [
        "**SQL Queries for Insights**\n"
      ],
      "metadata": {
        "id": "1IfNF_wwqZmN"
      }
    },
    {
      "cell_type": "markdown",
      "source": [
        "A. Aggregated Insights"
      ],
      "metadata": {
        "id": "3aXt9Baiqk4V"
      }
    },
    {
      "cell_type": "code",
      "source": [
        "# 1. Total Sales Amount\n",
        "query = \"SELECT ROUND(SUM(TransactionAmount) / 1000000, 2) AS Total_Sales_in_Millions FROM sales_data\"\n",
        "result = pd.read_sql(query, conn)\n",
        "print(result)\n"
      ],
      "metadata": {
        "colab": {
          "base_uri": "https://localhost:8080/"
        },
        "id": "-lrTqb-xpZYW",
        "outputId": "e1bc7cd2-e42f-4ae0-d551-0431d3800f69"
      },
      "execution_count": 6,
      "outputs": [
        {
          "output_type": "stream",
          "name": "stdout",
          "text": [
            "   Total_Sales_in_Millions\n",
            "0                 10202.66\n"
          ]
        }
      ]
    },
    {
      "cell_type": "code",
      "source": [
        "# 2. Average Discount Given\n",
        "query = \"SELECT ROUND(AVG(DiscountPercent),2) AS Avg_Discount FROM sales_data;\"\n",
        "result = pd.read_sql(query, conn)\n",
        "print(result)"
      ],
      "metadata": {
        "colab": {
          "base_uri": "https://localhost:8080/"
        },
        "id": "JXy9BAT5tOel",
        "outputId": "6432c3af-9855-4c1e-aa31-75189164ca0a"
      },
      "execution_count": 7,
      "outputs": [
        {
          "output_type": "stream",
          "name": "stdout",
          "text": [
            "   Avg_Discount\n",
            "0          25.0\n"
          ]
        }
      ]
    },
    {
      "cell_type": "code",
      "source": [
        "# 3. Top 5 Best-Selling Products\n",
        "query = \"SELECT ProductName, COUNT(*) AS Sales_Count FROM sales_data GROUP BY ProductName ORDER BY Sales_Count DESC LIMIT 5;\"\n",
        "result = pd.read_sql(query, conn)\n",
        "print(result)"
      ],
      "metadata": {
        "colab": {
          "base_uri": "https://localhost:8080/"
        },
        "id": "nDaVK3yStVSV",
        "outputId": "5b4969e5-ac70-4479-b62a-b726b6fd0a01"
      },
      "execution_count": 8,
      "outputs": [
        {
          "output_type": "stream",
          "name": "stdout",
          "text": [
            "  ProductName  Sales_Count\n",
            "0    Notebook        90294\n",
            "1     T-Shirt        90187\n",
            "2       Apple        89970\n",
            "3      Laptop        89809\n",
            "4        Sofa        89740\n"
          ]
        }
      ]
    },
    {
      "cell_type": "markdown",
      "source": [
        "B. Drill-Down Insights"
      ],
      "metadata": {
        "id": "InI96SeYtu9N"
      }
    },
    {
      "cell_type": "code",
      "source": [
        "# 4. Sales by City (Highest to Lowest)\n",
        "query = \"SELECT City, ROUND(SUM(TransactionAmount) / 1000000, 2) AS Total_Sales_in_Millions FROM sales_data GROUP BY City ORDER BY Total_Sales_in_Millions DESC;\"\n",
        "result = pd.read_sql(query, conn)\n",
        "print(result)"
      ],
      "metadata": {
        "colab": {
          "base_uri": "https://localhost:8080/"
        },
        "id": "zuweq9ehtx6t",
        "outputId": "59774e96-5643-4d0e-86d9-d7f268bbe930"
      },
      "execution_count": 9,
      "outputs": [
        {
          "output_type": "stream",
          "name": "stdout",
          "text": [
            "        City  Total_Sales_in_Millions\n",
            "0    Kolkata                  1027.33\n",
            "1  Ahmedabad                  1023.68\n",
            "2  Bangalore                  1022.38\n",
            "3       Pune                  1022.14\n",
            "4    Chennai                  1022.12\n",
            "5      Delhi                  1021.35\n",
            "6    Lucknow                  1021.21\n",
            "7     Mumbai                  1018.53\n",
            "8     Jaipur                  1015.04\n",
            "9  Hyderabad                  1008.89\n"
          ]
        }
      ]
    },
    {
      "cell_type": "code",
      "source": [
        "# 5. Sales by Payment Method\n",
        "query = \"SELECT PaymentMethod, ROUND(SUM(TransactionAmount) / 1000000, 2) AS Total_Sales_in_Millions FROM sales_data GROUP BY PaymentMethod ORDER BY Total_Sales_in_Millions DESC;\"\n",
        "result = pd.read_sql(query, conn)\n",
        "print(result)"
      ],
      "metadata": {
        "colab": {
          "base_uri": "https://localhost:8080/"
        },
        "id": "tyWkW8jKt_oW",
        "outputId": "935260d3-2d95-4eff-9843-646a0b0d63f5"
      },
      "execution_count": 10,
      "outputs": [
        {
          "output_type": "stream",
          "name": "stdout",
          "text": [
            "  PaymentMethod  Total_Sales_in_Millions\n",
            "0          Cash                  2556.68\n",
            "1    Debit Card                  2552.37\n",
            "2           UPI                  2530.18\n",
            "3   Credit Card                  2517.71\n",
            "4          None                    45.73\n"
          ]
        }
      ]
    },
    {
      "cell_type": "code",
      "source": [
        "# 6. Sales by Store Type (Online vs. In-Store)\n",
        "query = \"SELECT StoreType, ROUND(SUM(TransactionAmount) / 1000000, 2) AS Total_Sales_in_Millions FROM sales_data GROUP BY StoreType;\"\n",
        "result = pd.read_sql(query, conn)\n",
        "print(result)"
      ],
      "metadata": {
        "colab": {
          "base_uri": "https://localhost:8080/"
        },
        "id": "-RaxpEhSuKTN",
        "outputId": "0f00cc95-ab06-4a15-85a1-77141f06ca38"
      },
      "execution_count": 11,
      "outputs": [
        {
          "output_type": "stream",
          "name": "stdout",
          "text": [
            "  StoreType  Total_Sales_in_Millions\n",
            "0      None                    45.73\n",
            "1  In-Store                  5078.88\n",
            "2    Online                  5078.05\n"
          ]
        }
      ]
    },
    {
      "cell_type": "markdown",
      "source": [
        "C. Customer Behavior Analysis"
      ],
      "metadata": {
        "id": "MP-Pn__1uVuO"
      }
    },
    {
      "cell_type": "code",
      "source": [
        "# 7. Sales by Age Group\n",
        "query = \"\"\"\n",
        "SELECT CASE\n",
        "            WHEN CustomerAge BETWEEN 18 AND 25 THEN '18-25'\n",
        "            WHEN CustomerAge BETWEEN 26 AND 35 THEN '26-35'\n",
        "            WHEN CustomerAge BETWEEN 36 AND 50 THEN '36-50'\n",
        "            ELSE '50+'\n",
        "          END AS Age_Group,\n",
        "          ROUND(SUM(TransactionAmount) / 1000000, 2) AS Total_Sales_in_Millions\n",
        "        FROM sales_data\n",
        "        GROUP BY Age_Group\n",
        "        ORDER BY Total_Sales_in_Millions DESC;\n",
        "      \"\"\"\n",
        "\n",
        "result = pd.read_sql(query, conn)\n",
        "print(result)"
      ],
      "metadata": {
        "colab": {
          "base_uri": "https://localhost:8080/"
        },
        "id": "a-w0nSscuXf1",
        "outputId": "0923cf95-965b-4842-c19b-24b06f3db8da"
      },
      "execution_count": 12,
      "outputs": [
        {
          "output_type": "stream",
          "name": "stdout",
          "text": [
            "  Age_Group  Total_Sales_in_Millions\n",
            "0       50+                  4316.36\n",
            "1     36-50                  2673.04\n",
            "2     26-35                  1791.13\n",
            "3     18-25                  1422.13\n"
          ]
        }
      ]
    },
    {
      "cell_type": "code",
      "source": [
        "# 8. Average Feedback Score by City\n",
        "query = \"\"\"\n",
        "        SELECT City, ROUND(AVG(FeedbackScore),2) AS Avg_Feedback\n",
        "        FROM sales_data\n",
        "        GROUP BY City\n",
        "        ORDER BY Avg_Feedback DESC;\n",
        "      \"\"\"\n",
        "\n",
        "result = pd.read_sql(query, conn)\n",
        "print(result)"
      ],
      "metadata": {
        "colab": {
          "base_uri": "https://localhost:8080/"
        },
        "id": "uvUejo3MumdF",
        "outputId": "7e5b65dd-2b6e-483b-c70d-ce1f318eeadc"
      },
      "execution_count": 13,
      "outputs": [
        {
          "output_type": "stream",
          "name": "stdout",
          "text": [
            "        City  Avg_Feedback\n",
            "0       Pune          3.01\n",
            "1    Lucknow          3.01\n",
            "2    Chennai          3.01\n",
            "3     Mumbai          3.00\n",
            "4    Kolkata          3.00\n",
            "5  Hyderabad          3.00\n",
            "6      Delhi          3.00\n",
            "7  Ahmedabad          3.00\n",
            "8     Jaipur          2.99\n",
            "9  Bangalore          2.99\n"
          ]
        }
      ]
    },
    {
      "cell_type": "code",
      "source": [
        "# 9. Total Returns by Product\n",
        "query = \"\"\"\n",
        "        SELECT ProductName, COUNT(*) AS Total_Returns\n",
        "        FROM sales_data\n",
        "        WHERE Returned = 'Yes'\n",
        "        GROUP BY ProductName\n",
        "        ORDER BY Total_Returns DESC;\n",
        "      \"\"\"\n",
        "\n",
        "result = pd.read_sql(query, conn)\n",
        "print(result)"
      ],
      "metadata": {
        "colab": {
          "base_uri": "https://localhost:8080/"
        },
        "id": "VB-7gtpbuu5l",
        "outputId": "651098fa-4f28-46db-c0c9-2a2a565c48a4"
      },
      "execution_count": 14,
      "outputs": [
        {
          "output_type": "stream",
          "name": "stdout",
          "text": [
            "  ProductName  Total_Returns\n",
            "0    Notebook          45061\n",
            "1       Apple          45033\n",
            "2      Laptop          44904\n",
            "3     T-Shirt          44783\n",
            "4        Sofa          44696\n",
            "5        None          24990\n"
          ]
        }
      ]
    },
    {
      "cell_type": "markdown",
      "source": [
        "D. Delivery & Shipping Analysis"
      ],
      "metadata": {
        "id": "puEA9puDu-6V"
      }
    },
    {
      "cell_type": "code",
      "source": [
        "# 10. Average Delivery Time by Region\n",
        "query = \"\"\"\n",
        "      SELECT Region, ROUND(AVG(DeliveryTimeDays),2) AS Avg_Delivery_Time\n",
        "      FROM sales_data\n",
        "      GROUP BY Region\n",
        "      ORDER BY Avg_Delivery_Time ASC;\n",
        "      \"\"\"\n",
        "\n",
        "result = pd.read_sql(query, conn)\n",
        "print(result)"
      ],
      "metadata": {
        "colab": {
          "base_uri": "https://localhost:8080/"
        },
        "id": "wMOJG-ihu-n9",
        "outputId": "88720d20-6888-4652-e636-79db35659f85"
      },
      "execution_count": 15,
      "outputs": [
        {
          "output_type": "stream",
          "name": "stdout",
          "text": [
            "  Region  Avg_Delivery_Time\n",
            "0  North               4.98\n",
            "1   West               4.99\n",
            "2   East               5.05\n",
            "3  South               5.07\n",
            "4   None               7.48\n"
          ]
        }
      ]
    },
    {
      "cell_type": "code",
      "source": [
        "# 11. Average Shipping Cost by Store Type\n",
        "query = \"\"\"\n",
        "      SELECT StoreType, ROUND(AVG(ShippingCost),2) AS Avg_Shipping_Cost\n",
        "      FROM sales_data\n",
        "      GROUP BY StoreType;\n",
        "      \"\"\"\n",
        "\n",
        "result = pd.read_sql(query, conn)\n",
        "print(result)"
      ],
      "metadata": {
        "colab": {
          "base_uri": "https://localhost:8080/"
        },
        "id": "wlO7lQqKvNN2",
        "outputId": "392a4457-f315-41df-c7ef-50bd96153014"
      },
      "execution_count": 16,
      "outputs": [
        {
          "output_type": "stream",
          "name": "stdout",
          "text": [
            "  StoreType  Avg_Shipping_Cost\n",
            "0      None              50.07\n",
            "1  In-Store             438.70\n",
            "2    Online             433.07\n"
          ]
        }
      ]
    }
  ]
}